{
 "cells": [
  {
   "cell_type": "markdown",
   "id": "0349bf10",
   "metadata": {},
   "source": [
    "<h1 style=\"color:#d38f0f; text-align:center\">Used cars price prediction"
   ]
  },
  {
   "cell_type": "code",
   "execution_count": 1,
   "id": "7b5e753b",
   "metadata": {},
   "outputs": [],
   "source": [
    "import numpy as np\n",
    "import pandas as pd\n",
    "import seaborn as sb\n",
    "import matplotlib.pyplot as plt\n",
    "import warnings\n",
    "warnings.filterwarnings('ignore')\n",
    "import json\n",
    "import pickle"
   ]
  },
  {
   "cell_type": "code",
   "execution_count": 2,
   "id": "70938519",
   "metadata": {},
   "outputs": [
    {
     "data": {
      "text/html": [
       "<div>\n",
       "<style scoped>\n",
       "    .dataframe tbody tr th:only-of-type {\n",
       "        vertical-align: middle;\n",
       "    }\n",
       "\n",
       "    .dataframe tbody tr th {\n",
       "        vertical-align: top;\n",
       "    }\n",
       "\n",
       "    .dataframe thead th {\n",
       "        text-align: right;\n",
       "    }\n",
       "</style>\n",
       "<table border=\"1\" class=\"dataframe\">\n",
       "  <thead>\n",
       "    <tr style=\"text-align: right;\">\n",
       "      <th></th>\n",
       "      <th>Unnamed: 0</th>\n",
       "      <th>car_name</th>\n",
       "      <th>brand</th>\n",
       "      <th>model</th>\n",
       "      <th>min_cost_price</th>\n",
       "      <th>max_cost_price</th>\n",
       "      <th>vehicle_age</th>\n",
       "      <th>km_driven</th>\n",
       "      <th>seller_type</th>\n",
       "      <th>fuel_type</th>\n",
       "      <th>transmission_type</th>\n",
       "      <th>mileage</th>\n",
       "      <th>engine</th>\n",
       "      <th>max_power</th>\n",
       "      <th>seats</th>\n",
       "      <th>selling_price</th>\n",
       "    </tr>\n",
       "  </thead>\n",
       "  <tbody>\n",
       "    <tr>\n",
       "      <th>0</th>\n",
       "      <td>0</td>\n",
       "      <td>Maruti Alto</td>\n",
       "      <td>Maruti</td>\n",
       "      <td>Alto</td>\n",
       "      <td>3.570039e+05</td>\n",
       "      <td>4.654015e+05</td>\n",
       "      <td>9</td>\n",
       "      <td>120000</td>\n",
       "      <td>Individual</td>\n",
       "      <td>Petrol</td>\n",
       "      <td>Manual</td>\n",
       "      <td>19.70</td>\n",
       "      <td>796</td>\n",
       "      <td>46.30</td>\n",
       "      <td>5</td>\n",
       "      <td>120000</td>\n",
       "    </tr>\n",
       "    <tr>\n",
       "      <th>1</th>\n",
       "      <td>1</td>\n",
       "      <td>Hyundai Grand</td>\n",
       "      <td>Hyundai</td>\n",
       "      <td>Grand</td>\n",
       "      <td>7.110000e+05</td>\n",
       "      <td>7.480000e+05</td>\n",
       "      <td>5</td>\n",
       "      <td>20000</td>\n",
       "      <td>Individual</td>\n",
       "      <td>Petrol</td>\n",
       "      <td>Manual</td>\n",
       "      <td>18.90</td>\n",
       "      <td>1197</td>\n",
       "      <td>82.00</td>\n",
       "      <td>5</td>\n",
       "      <td>550000</td>\n",
       "    </tr>\n",
       "    <tr>\n",
       "      <th>2</th>\n",
       "      <td>2</td>\n",
       "      <td>Hyundai i20</td>\n",
       "      <td>Hyundai</td>\n",
       "      <td>i20</td>\n",
       "      <td>8.540829e+05</td>\n",
       "      <td>1.307926e+06</td>\n",
       "      <td>11</td>\n",
       "      <td>60000</td>\n",
       "      <td>Individual</td>\n",
       "      <td>Petrol</td>\n",
       "      <td>Manual</td>\n",
       "      <td>17.00</td>\n",
       "      <td>1197</td>\n",
       "      <td>80.00</td>\n",
       "      <td>5</td>\n",
       "      <td>215000</td>\n",
       "    </tr>\n",
       "    <tr>\n",
       "      <th>3</th>\n",
       "      <td>3</td>\n",
       "      <td>Maruti Alto</td>\n",
       "      <td>Maruti</td>\n",
       "      <td>Alto</td>\n",
       "      <td>3.570039e+05</td>\n",
       "      <td>4.654015e+05</td>\n",
       "      <td>9</td>\n",
       "      <td>37000</td>\n",
       "      <td>Individual</td>\n",
       "      <td>Petrol</td>\n",
       "      <td>Manual</td>\n",
       "      <td>20.92</td>\n",
       "      <td>998</td>\n",
       "      <td>67.10</td>\n",
       "      <td>5</td>\n",
       "      <td>226000</td>\n",
       "    </tr>\n",
       "    <tr>\n",
       "      <th>4</th>\n",
       "      <td>4</td>\n",
       "      <td>Ford Ecosport</td>\n",
       "      <td>Ford</td>\n",
       "      <td>Ecosport</td>\n",
       "      <td>1.014000e+06</td>\n",
       "      <td>1.379000e+06</td>\n",
       "      <td>6</td>\n",
       "      <td>30000</td>\n",
       "      <td>Dealer</td>\n",
       "      <td>Diesel</td>\n",
       "      <td>Manual</td>\n",
       "      <td>22.77</td>\n",
       "      <td>1498</td>\n",
       "      <td>98.59</td>\n",
       "      <td>5</td>\n",
       "      <td>570000</td>\n",
       "    </tr>\n",
       "  </tbody>\n",
       "</table>\n",
       "</div>"
      ],
      "text/plain": [
       "   Unnamed: 0       car_name    brand     model  min_cost_price  \\\n",
       "0           0    Maruti Alto   Maruti      Alto    3.570039e+05   \n",
       "1           1  Hyundai Grand  Hyundai     Grand    7.110000e+05   \n",
       "2           2    Hyundai i20  Hyundai       i20    8.540829e+05   \n",
       "3           3    Maruti Alto   Maruti      Alto    3.570039e+05   \n",
       "4           4  Ford Ecosport     Ford  Ecosport    1.014000e+06   \n",
       "\n",
       "   max_cost_price  vehicle_age  km_driven seller_type fuel_type  \\\n",
       "0    4.654015e+05            9     120000  Individual    Petrol   \n",
       "1    7.480000e+05            5      20000  Individual    Petrol   \n",
       "2    1.307926e+06           11      60000  Individual    Petrol   \n",
       "3    4.654015e+05            9      37000  Individual    Petrol   \n",
       "4    1.379000e+06            6      30000      Dealer    Diesel   \n",
       "\n",
       "  transmission_type  mileage  engine  max_power  seats  selling_price  \n",
       "0            Manual    19.70     796      46.30      5         120000  \n",
       "1            Manual    18.90    1197      82.00      5         550000  \n",
       "2            Manual    17.00    1197      80.00      5         215000  \n",
       "3            Manual    20.92     998      67.10      5         226000  \n",
       "4            Manual    22.77    1498      98.59      5         570000  "
      ]
     },
     "execution_count": 2,
     "metadata": {},
     "output_type": "execute_result"
    }
   ],
   "source": [
    "df = pd.read_csv('cardekho_imputated.csv')\n",
    "df.head()"
   ]
  },
  {
   "cell_type": "code",
   "execution_count": 3,
   "id": "1ec74ed7",
   "metadata": {},
   "outputs": [],
   "source": [
    "brand_model = df[['brand', 'model']].drop_duplicates()\n",
    "unique_brands = brand_model.brand.unique()\n",
    "d=dict()\n",
    "l=list()\n",
    "for i in range(len(unique_brands)):\n",
    "    d.setdefault(unique_brands[i], [])\n",
    "    l.append([brand_model[brand_model.brand == unique_brands[i]]['model']])\n",
    "    d[unique_brands[i]]=l[i]"
   ]
  },
  {
   "cell_type": "code",
   "execution_count": 4,
   "id": "5376ac91",
   "metadata": {},
   "outputs": [],
   "source": [
    "dc=dict()\n",
    "for i in range(len(unique_brands)):\n",
    "    dc.setdefault(unique_brands[i], [])\n",
    "for i in range(len(d.values())):\n",
    "    for j in list(d.values())[i]:\n",
    "        ls = list(j)\n",
    "        dc[unique_brands[i]] = ls\n",
    "# print(dc)\n",
    "\n",
    "with open('brand_model.json', 'w') as f:\n",
    "    f.write(json.dumps(dc))"
   ]
  },
  {
   "cell_type": "code",
   "execution_count": 5,
   "id": "57dea7ac",
   "metadata": {},
   "outputs": [],
   "source": [
    "df.drop(['Unnamed: 0', 'seller_type'], axis=1, inplace=True)"
   ]
  },
  {
   "cell_type": "code",
   "execution_count": 6,
   "id": "0c9a71a8",
   "metadata": {},
   "outputs": [],
   "source": [
    "df.drop(df[(df['vehicle_age'] > 20) ].index, inplace=True)\n",
    "df.drop(df[df['km_driven'] >300000 ].index, inplace=True)"
   ]
  },
  {
   "cell_type": "code",
   "execution_count": 7,
   "id": "db5b45b4",
   "metadata": {},
   "outputs": [],
   "source": [
    "df['avg_cost_price']=(df['min_cost_price']+df['max_cost_price'])/2\n",
    "df.drop(['min_cost_price', 'max_cost_price'], axis=1, inplace=True)"
   ]
  },
  {
   "cell_type": "code",
   "execution_count": 8,
   "id": "05244a2d",
   "metadata": {},
   "outputs": [],
   "source": [
    "df = pd.get_dummies(df, columns=['fuel_type','transmission_type','brand','model'],drop_first=True, prefix=\"\", prefix_sep=\"\")"
   ]
  },
  {
   "cell_type": "code",
   "execution_count": 9,
   "id": "117c3dc7",
   "metadata": {},
   "outputs": [],
   "source": [
    "df.drop('car_name', axis=1, inplace=True)"
   ]
  },
  {
   "cell_type": "code",
   "execution_count": 10,
   "id": "346157fc",
   "metadata": {},
   "outputs": [],
   "source": [
    "from sklearn.model_selection import train_test_split\n",
    "X=df.drop(columns=['selling_price'],axis=1)\n",
    "y=df['selling_price']\n",
    "X_train, X_test, y_train, y_test = train_test_split(X, y, test_size=0.2, random_state=101)"
   ]
  },
  {
   "cell_type": "code",
   "execution_count": 11,
   "id": "01d89d21",
   "metadata": {},
   "outputs": [],
   "source": [
    "from sklearn.preprocessing import StandardScaler\n",
    "std_scaler = StandardScaler()\n",
    "scaled_X_train = std_scaler.fit_transform(X_train)"
   ]
  },
  {
   "cell_type": "code",
   "execution_count": 12,
   "id": "245cf29d",
   "metadata": {},
   "outputs": [],
   "source": [
    "scaled_X_test = std_scaler.transform(X_test)"
   ]
  },
  {
   "cell_type": "code",
   "execution_count": 13,
   "id": "65626179",
   "metadata": {},
   "outputs": [],
   "source": [
    "from sklearn.metrics import r2_score\n",
    "from sklearn.model_selection import cross_val_score\n",
    "from sklearn import metrics\n",
    "from sklearn.ensemble import RandomForestRegressor\n",
    "\n",
    "CV = []\n",
    "R2_train = []\n",
    "R2_test = []"
   ]
  },
  {
   "cell_type": "code",
   "execution_count": 14,
   "id": "208ee235",
   "metadata": {},
   "outputs": [],
   "source": [
    "rfr = RandomForestRegressor()\n",
    "rfr.fit(scaled_X_train, y_train)\n",
    "\n",
    "y_pred_train = rfr.predict(scaled_X_train)\n",
    "R2_train_model = r2_score(y_train,y_pred_train)\n",
    "R2_train.append(round(R2_train_model,2))\n",
    "    \n",
    "# R2 score of test set\n",
    "y_pred_test = rfr.predict(scaled_X_test)\n",
    "R2_test_model = r2_score(y_test,y_pred_test)\n",
    "R2_test.append(round(R2_test_model,2))\n",
    "    \n",
    "cross_val = cross_val_score(rfr ,scaled_X_train ,y_train ,cv=3)\n",
    "cv_mean = cross_val.mean()\n",
    "CV.append(round(cv_mean,2))"
   ]
  },
  {
   "cell_type": "code",
   "execution_count": 15,
   "id": "891ba08b",
   "metadata": {},
   "outputs": [],
   "source": [
    "str1 = \"Train R2-score :\"+str(round(R2_train_model,2))+'\\n'\n",
    "str2 = \"Test R2-score :\"+str(round(R2_test_model,2))+'\\n'\n",
    "str3 = \"Train CV scores :\"+str(cross_val)+'\\n'\n",
    "str4 = \"Train CV mean :\"+str(round(cv_mean,2))\n",
    "f = open('score.txt', 'w')\n",
    "L=[str1,str2,str3,str4]\n",
    "f.writelines(L)\n",
    "f.close()"
   ]
  },
  {
   "cell_type": "code",
   "execution_count": 16,
   "id": "6cc86a3f",
   "metadata": {},
   "outputs": [
    {
     "data": {
      "text/plain": [
       "<AxesSubplot:xlabel='selling_price'>"
      ]
     },
     "execution_count": 16,
     "metadata": {},
     "output_type": "execute_result"
    },
    {
     "data": {
      "image/png": "[encoded data removed]",
      "text/plain": [
       "<Figure size 640x480 with 1 Axes>"
      ]
     },
     "metadata": {},
     "output_type": "display_data"
    }
   ],
   "source": [
    "sb.scatterplot(y_test, y_pred_test, alpha=.4)"
   ]
  },
  {
   "cell_type": "code",
   "execution_count": 26,
   "id": "3d7a318f",
   "metadata": {},
   "outputs": [
    {
     "name": "stdout",
     "output_type": "stream",
     "text": [
      "770000\n"
     ]
    }
   ],
   "source": [
    "new_data_x = X_train.loc[128]\n",
    "new_data_y = y_train.loc[128]\n",
    "print(new_data_y)"
   ]
  },
  {
   "cell_type": "code",
   "execution_count": 18,
   "id": "ac176cc3",
   "metadata": {},
   "outputs": [],
   "source": [
    "scaled_new_data = std_scaler.transform([new_data_x])"
   ]
  },
  {
   "cell_type": "code",
   "execution_count": 19,
   "id": "362d5215",
   "metadata": {},
   "outputs": [
    {
     "data": {
      "text/plain": [
       "array([742440.])"
      ]
     },
     "execution_count": 19,
     "metadata": {},
     "output_type": "execute_result"
    }
   ],
   "source": [
    "rfr.predict(scaled_new_data)"
   ]
  },
  {
   "cell_type": "code",
   "execution_count": 20,
   "id": "f69a6ea8",
   "metadata": {},
   "outputs": [],
   "source": [
    "columns_names = {'columns':[col for col in X.columns]}"
   ]
  },
  {
   "cell_type": "code",
   "execution_count": 21,
   "id": "9486d1c9",
   "metadata": {},
   "outputs": [],
   "source": [
    "with open('columns.json', 'w') as f:\n",
    "    f.write(json.dumps(columns_names))"
   ]
  },
  {
   "cell_type": "code",
   "execution_count": 22,
   "id": "ae0f1b9a",
   "metadata": {},
   "outputs": [],
   "source": [
    "with open('used_cars.pickle', 'wb') as f:\n",
    "    pickle.dump(rfr, f)"
   ]
  },
  {
   "cell_type": "code",
   "execution_count": 23,
   "id": "598171b7",
   "metadata": {},
   "outputs": [],
   "source": [
    "ndf = pd.read_csv('cardekho_imputated.csv')\n",
    "test_csv = ndf.iloc[X_test.index].drop(['Unnamed: 0'], axis=1)"
   ]
  },
  {
   "cell_type": "code",
   "execution_count": 24,
   "id": "3a1b80aa",
   "metadata": {},
   "outputs": [],
   "source": [
    "test_csv.to_csv('test_set.csv')"
   ]
  }
 ],
 "metadata": {
  "kernelspec": {
   "display_name": "Python 3 (ipykernel)",
   "language": "python",
   "name": "python3"
  },
  "language_info": {
   "codemirror_mode": {
    "name": "ipython",
    "version": 3
   },
   "file_extension": ".py",
   "mimetype": "text/x-python",
   "name": "python",
   "nbconvert_exporter": "python",
   "pygments_lexer": "ipython3",
   "version": "3.9.12"
  }
 },
 "nbformat": 4,
 "nbformat_minor": 5
}
